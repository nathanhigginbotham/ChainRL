{
 "cells": [
  {
   "attachments": {},
   "cell_type": "markdown",
   "metadata": {},
   "source": [
    "# SB3 Algorithms"
   ]
  },
  {
   "attachments": {},
   "cell_type": "markdown",
   "metadata": {},
   "source": [
    "After initial (out the box) testing of each algorithm offered by Standard Baselines 3 (and contrib), this notebook offers a quick summary of all the algorithms training/performance evaluations."
   ]
  },
  {
   "attachments": {},
   "cell_type": "markdown",
   "metadata": {},
   "source": [
    "### 1. Importing Relevant Modules, Algorithms and Policies"
   ]
  },
  {
   "cell_type": "code",
   "execution_count": 1,
   "metadata": {},
   "outputs": [],
   "source": [
    "# Importing Required Modules\n",
    "import gym\n",
    "import numpy as np\n",
    "import or_gym\n",
    "\n",
    "import matplotlib.pyplot as plt\n",
    "\n",
    "from tqdm import tqdm\n",
    "\n",
    "# Importing PPO Algorithm and Base Policy\n",
    "from stable_baselines3 import PPO\n",
    "from stable_baselines3.ppo.policies import MlpPolicy\n",
    "from stable_baselines3.common.evaluation import evaluate_policy\n"
   ]
  },
  {
   "attachments": {},
   "cell_type": "markdown",
   "metadata": {},
   "source": [
    "### 2. Primitive Evaluation\n",
    "\n",
    "Here we build a function which takes a specified algorith, policy and environment. It then builds the environment, sets up the model with the associated policy. Trains the model, while evaluating it at specified intervals. Then it returns the reward and error values of the evaluation at the specified timesteps."
   ]
  },
  {
   "cell_type": "code",
   "execution_count": 5,
   "metadata": {},
   "outputs": [],
   "source": [
    "def PrimitiveEval(alg, policy, environment, episodes=50000, div=50):\n",
    "    \"\"\" Trains and evaluates agent performance with precision episodes/div\n",
    "\n",
    "    Args:\n",
    "        alg (SB3 Algorithm): Imported agent algorithm\n",
    "        policy (SB3 Policy): Imported policy for the agent\n",
    "        environment (string): Name of generated environment to train to\n",
    "        episodes (int): Number of episodes the agent trains for\n",
    "        div (int): Division Factor for precision of mean_reward array\n",
    "        \n",
    "    Returns:\n",
    "        ep_arr (arr): Array of Timesteps at which evaluation occurs\n",
    "        mean_rewards (arr): Average total reward over 100 episodes\n",
    "        mean_error (arr): Average total error over 100 episodes\n",
    "        \n",
    "    \"\"\"\n",
    "    \n",
    "    env = or_gym.make(environment)\n",
    "    \n",
    "    model = alg(policy, env, verbose=0) # Model Definition\n",
    "    ep_arr = np.linspace(episodes/div, episodes, div) # Episodes Array (For Plotting)\n",
    "    mean_reward = np.zeros(div) # Initialising Rewards Array\n",
    "    mean_error = np.zeros(div) # Initialising Error Array\n",
    "    \n",
    "    for i in range(div):\n",
    "        model.learn(total_timesteps=episodes/div, progress_bar=False)\n",
    "        mean_reward[i], mean_error[i] = evaluate_policy(model, env, n_eval_episodes=100)\n",
    "    \n",
    "    return ep_arr, mean_reward, mean_error"
   ]
  },
  {
   "attachments": {},
   "cell_type": "markdown",
   "metadata": {},
   "source": [
    "### 3. Proof of Concept"
   ]
  },
  {
   "cell_type": "code",
   "execution_count": 8,
   "metadata": {},
   "outputs": [
    {
     "data": {
      "text/html": [
       "<pre style=\"white-space:pre;overflow-x:auto;line-height:normal;font-family:Menlo,'DejaVu Sans Mono',consolas,'Courier New',monospace\">c:\\Users\\Nathan\\anaconda3\\lib\\site-packages\\stable_baselines3\\common\\evaluation.py:67: UserWarning: Evaluation \n",
       "environment is not wrapped with a ``Monitor`` wrapper. This may result in reporting modified episode lengths and \n",
       "rewards, if other wrappers happen to modify these. Consider wrapping environment first with ``Monitor`` wrapper.\n",
       "  warnings.warn(\n",
       "</pre>\n"
      ],
      "text/plain": [
       "c:\\Users\\Nathan\\anaconda3\\lib\\site-packages\\stable_baselines3\\common\\evaluation.py:67: UserWarning: Evaluation \n",
       "environment is not wrapped with a ``Monitor`` wrapper. This may result in reporting modified episode lengths and \n",
       "rewards, if other wrappers happen to modify these. Consider wrapping environment first with ``Monitor`` wrapper.\n",
       "  warnings.warn(\n"
      ]
     },
     "metadata": {},
     "output_type": "display_data"
    }
   ],
   "source": [
    "a, b, c = PrimitiveEval(PPO, MlpPolicy, 'InvManagement-v1', episodes=250000);"
   ]
  },
  {
   "cell_type": "code",
   "execution_count": 9,
   "metadata": {},
   "outputs": [
    {
     "data": {
      "image/png": "[encoded data removed]",
      "text/plain": [
       "<Figure size 432x288 with 1 Axes>"
      ]
     },
     "metadata": {
      "needs_background": "light"
     },
     "output_type": "display_data"
    }
   ],
   "source": [
    "plt.plot(a,b);"
   ]
  },
  {
   "attachments": {},
   "cell_type": "markdown",
   "metadata": {},
   "source": [
    "### 4. Mass Evaluation"
   ]
  },
  {
   "attachments": {},
   "cell_type": "markdown",
   "metadata": {},
   "source": [
    "Now that we have the proof of concept, we can run a big for loop and get everything tested. (I have already tested everything and therefore have just kept in the algorithms and policies that actually work!) <br>\n",
    "\n",
    "To do this, we're going to create a list of the algorithms and their respective policies, and then just iterate over the lists via their indices."
   ]
  },
  {
   "cell_type": "code",
   "execution_count": 10,
   "metadata": {},
   "outputs": [],
   "source": [
    "from stable_baselines3 import SAC\n",
    "from stable_baselines3.sac.policies import MlpPolicy as SACPolicy\n",
    "\n",
    "from stable_baselines3 import A2C\n",
    "from stable_baselines3.a2c.policies import MlpPolicy as A2CPolicy\n",
    "\n",
    "from stable_baselines3 import PPO\n",
    "from stable_baselines3.ppo.policies import MlpPolicy as PPOPolicy\n",
    "\n",
    "from sb3_contrib import ARS\n",
    "from sb3_contrib.ars.policies import ARSPolicy\n",
    "\n",
    "from sb3_contrib import RecurrentPPO\n",
    "from sb3_contrib.ppo_recurrent.policies import RecurrentActorCriticPolicy\n",
    "\n",
    "from sb3_contrib import TQC\n",
    "from sb3_contrib.tqc.policies import MlpPolicy as TQCPolicy\n",
    "\n",
    "from sb3_contrib import TRPO\n",
    "from sb3_contrib.trpo.policies import MlpPolicy as TRPOPolicy"
   ]
  },
  {
   "cell_type": "code",
   "execution_count": 11,
   "metadata": {},
   "outputs": [],
   "source": [
    "alg_names = [SAC, A2C, PPO, ARS, RecurrentPPO, TQC, TRPO] # Algorithms\n",
    "model_names_strings = [\"SAC\", \"A2C\", \"PPO\", \"ARS\", \"RecurrentPPO\", \"TQC\", \"TRPO\"] # Strings of Algorithms\n",
    "policies = [SACPolicy, A2CPolicy, PPOPolicy, ARSPolicy, RecurrentActorCriticPolicy, TQCPolicy, TRPOPolicy] # Policies"
   ]
  },
  {
   "cell_type": "code",
   "execution_count": 14,
   "metadata": {},
   "outputs": [
    {
     "data": {
      "text/html": [
       "<pre style=\"white-space:pre;overflow-x:auto;line-height:normal;font-family:Menlo,'DejaVu Sans Mono',consolas,'Courier New',monospace\">c:\\Users\\Nathan\\anaconda3\\lib\\site-packages\\stable_baselines3\\common\\evaluation.py:67: UserWarning: Evaluation \n",
       "environment is not wrapped with a ``Monitor`` wrapper. This may result in reporting modified episode lengths and \n",
       "rewards, if other wrappers happen to modify these. Consider wrapping environment first with ``Monitor`` wrapper.\n",
       "  warnings.warn(\n",
       "</pre>\n"
      ],
      "text/plain": [
       "c:\\Users\\Nathan\\anaconda3\\lib\\site-packages\\stable_baselines3\\common\\evaluation.py:67: UserWarning: Evaluation \n",
       "environment is not wrapped with a ``Monitor`` wrapper. This may result in reporting modified episode lengths and \n",
       "rewards, if other wrappers happen to modify these. Consider wrapping environment first with ``Monitor`` wrapper.\n",
       "  warnings.warn(\n"
      ]
     },
     "metadata": {},
     "output_type": "display_data"
    },
    {
     "data": {
      "text/html": [
       "<pre style=\"white-space:pre;overflow-x:auto;line-height:normal;font-family:Menlo,'DejaVu Sans Mono',consolas,'Courier New',monospace\">c:\\Users\\Nathan\\anaconda3\\lib\\site-packages\\stable_baselines3\\common\\evaluation.py:67: UserWarning: Evaluation \n",
       "environment is not wrapped with a ``Monitor`` wrapper. This may result in reporting modified episode lengths and \n",
       "rewards, if other wrappers happen to modify these. Consider wrapping environment first with ``Monitor`` wrapper.\n",
       "  warnings.warn(\n",
       "</pre>\n"
      ],
      "text/plain": [
       "c:\\Users\\Nathan\\anaconda3\\lib\\site-packages\\stable_baselines3\\common\\evaluation.py:67: UserWarning: Evaluation \n",
       "environment is not wrapped with a ``Monitor`` wrapper. This may result in reporting modified episode lengths and \n",
       "rewards, if other wrappers happen to modify these. Consider wrapping environment first with ``Monitor`` wrapper.\n",
       "  warnings.warn(\n"
      ]
     },
     "metadata": {},
     "output_type": "display_data"
    },
    {
     "data": {
      "text/html": [
       "<pre style=\"white-space:pre;overflow-x:auto;line-height:normal;font-family:Menlo,'DejaVu Sans Mono',consolas,'Courier New',monospace\">c:\\Users\\Nathan\\anaconda3\\lib\\site-packages\\stable_baselines3\\common\\evaluation.py:67: UserWarning: Evaluation \n",
       "environment is not wrapped with a ``Monitor`` wrapper. This may result in reporting modified episode lengths and \n",
       "rewards, if other wrappers happen to modify these. Consider wrapping environment first with ``Monitor`` wrapper.\n",
       "  warnings.warn(\n",
       "</pre>\n"
      ],
      "text/plain": [
       "c:\\Users\\Nathan\\anaconda3\\lib\\site-packages\\stable_baselines3\\common\\evaluation.py:67: UserWarning: Evaluation \n",
       "environment is not wrapped with a ``Monitor`` wrapper. This may result in reporting modified episode lengths and \n",
       "rewards, if other wrappers happen to modify these. Consider wrapping environment first with ``Monitor`` wrapper.\n",
       "  warnings.warn(\n"
      ]
     },
     "metadata": {},
     "output_type": "display_data"
    },
    {
     "data": {
      "text/html": [
       "<pre style=\"white-space:pre;overflow-x:auto;line-height:normal;font-family:Menlo,'DejaVu Sans Mono',consolas,'Courier New',monospace\">c:\\Users\\Nathan\\anaconda3\\lib\\site-packages\\stable_baselines3\\common\\evaluation.py:67: UserWarning: Evaluation \n",
       "environment is not wrapped with a ``Monitor`` wrapper. This may result in reporting modified episode lengths and \n",
       "rewards, if other wrappers happen to modify these. Consider wrapping environment first with ``Monitor`` wrapper.\n",
       "  warnings.warn(\n",
       "</pre>\n"
      ],
      "text/plain": [
       "c:\\Users\\Nathan\\anaconda3\\lib\\site-packages\\stable_baselines3\\common\\evaluation.py:67: UserWarning: Evaluation \n",
       "environment is not wrapped with a ``Monitor`` wrapper. This may result in reporting modified episode lengths and \n",
       "rewards, if other wrappers happen to modify these. Consider wrapping environment first with ``Monitor`` wrapper.\n",
       "  warnings.warn(\n"
      ]
     },
     "metadata": {},
     "output_type": "display_data"
    },
    {
     "data": {
      "text/html": [
       "<pre style=\"white-space:pre;overflow-x:auto;line-height:normal;font-family:Menlo,'DejaVu Sans Mono',consolas,'Courier New',monospace\">c:\\Users\\Nathan\\anaconda3\\lib\\site-packages\\stable_baselines3\\common\\evaluation.py:67: UserWarning: Evaluation \n",
       "environment is not wrapped with a ``Monitor`` wrapper. This may result in reporting modified episode lengths and \n",
       "rewards, if other wrappers happen to modify these. Consider wrapping environment first with ``Monitor`` wrapper.\n",
       "  warnings.warn(\n",
       "</pre>\n"
      ],
      "text/plain": [
       "c:\\Users\\Nathan\\anaconda3\\lib\\site-packages\\stable_baselines3\\common\\evaluation.py:67: UserWarning: Evaluation \n",
       "environment is not wrapped with a ``Monitor`` wrapper. This may result in reporting modified episode lengths and \n",
       "rewards, if other wrappers happen to modify these. Consider wrapping environment first with ``Monitor`` wrapper.\n",
       "  warnings.warn(\n"
      ]
     },
     "metadata": {},
     "output_type": "display_data"
    },
    {
     "data": {
      "text/html": [
       "<pre style=\"white-space:pre;overflow-x:auto;line-height:normal;font-family:Menlo,'DejaVu Sans Mono',consolas,'Courier New',monospace\">c:\\Users\\Nathan\\anaconda3\\lib\\site-packages\\stable_baselines3\\common\\evaluation.py:67: UserWarning: Evaluation \n",
       "environment is not wrapped with a ``Monitor`` wrapper. This may result in reporting modified episode lengths and \n",
       "rewards, if other wrappers happen to modify these. Consider wrapping environment first with ``Monitor`` wrapper.\n",
       "  warnings.warn(\n",
       "</pre>\n"
      ],
      "text/plain": [
       "c:\\Users\\Nathan\\anaconda3\\lib\\site-packages\\stable_baselines3\\common\\evaluation.py:67: UserWarning: Evaluation \n",
       "environment is not wrapped with a ``Monitor`` wrapper. This may result in reporting modified episode lengths and \n",
       "rewards, if other wrappers happen to modify these. Consider wrapping environment first with ``Monitor`` wrapper.\n",
       "  warnings.warn(\n"
      ]
     },
     "metadata": {},
     "output_type": "display_data"
    },
    {
     "data": {
      "text/html": [
       "<pre style=\"white-space:pre;overflow-x:auto;line-height:normal;font-family:Menlo,'DejaVu Sans Mono',consolas,'Courier New',monospace\">c:\\Users\\Nathan\\anaconda3\\lib\\site-packages\\stable_baselines3\\common\\evaluation.py:67: UserWarning: Evaluation \n",
       "environment is not wrapped with a ``Monitor`` wrapper. This may result in reporting modified episode lengths and \n",
       "rewards, if other wrappers happen to modify these. Consider wrapping environment first with ``Monitor`` wrapper.\n",
       "  warnings.warn(\n",
       "</pre>\n"
      ],
      "text/plain": [
       "c:\\Users\\Nathan\\anaconda3\\lib\\site-packages\\stable_baselines3\\common\\evaluation.py:67: UserWarning: Evaluation \n",
       "environment is not wrapped with a ``Monitor`` wrapper. This may result in reporting modified episode lengths and \n",
       "rewards, if other wrappers happen to modify these. Consider wrapping environment first with ``Monitor`` wrapper.\n",
       "  warnings.warn(\n"
      ]
     },
     "metadata": {},
     "output_type": "display_data"
    },
    {
     "data": {
      "image/png": "[encoded data removed]",
      "text/plain": [
       "<Figure size 432x288 with 1 Axes>"
      ]
     },
     "metadata": {
      "needs_background": "light"
     },
     "output_type": "display_data"
    }
   ],
   "source": [
    "plt.figure()\n",
    "for i in range(len(alg_names)):\n",
    "    a,b,c = PrimitiveEval(alg_names[i], policies[i], 'InvManagement-v1')\n",
    "    plt.plot(a,b,label=model_names_strings[i])\n",
    "    \n",
    "plt.xlabel('Episode Number')\n",
    "plt.ylabel('Mean Reward')\n",
    "plt.legend()"
   ]
  },
  {
   "attachments": {},
   "cell_type": "markdown",
   "metadata": {},
   "source": [
    "# Archived:"
   ]
  },
  {
   "cell_type": "code",
   "execution_count": null,
   "metadata": {},
   "outputs": [],
   "source": [
    "# Making Supply Chain Environment\n",
    "env = or_gym.make('InvManagement-v1') #gym.make('CartPole-v1')\n",
    "\n",
    "# Constructing model\n",
    "model = PPO(MlpPolicy, env, verbose=0)"
   ]
  },
  {
   "cell_type": "code",
   "execution_count": null,
   "metadata": {},
   "outputs": [],
   "source": [
    "# Evaluating initial pre-training performance\n",
    "\n",
    "mean_reward_before_train = evaluate_policy(model, env, n_eval_episodes=100)\n",
    "print(\"Mean reward:\", mean_reward_before_train)\n"
   ]
  },
  {
   "cell_type": "code",
   "execution_count": null,
   "metadata": {},
   "outputs": [],
   "source": [
    "EpisodeNumber = np.linspace(10000,500000,50)\n",
    "mean_reward = np.zeros(50)"
   ]
  },
  {
   "cell_type": "code",
   "execution_count": null,
   "metadata": {},
   "outputs": [],
   "source": [
    "# Train the agent for 500,000 steps\n",
    "\n",
    "for i in tqdm(range(50)):\n",
    "    model.learn(total_timesteps=10000, progress_bar=True)\n",
    "    mean_reward[i] = evaluate_policy(model, env, n_eval_episodes=100)[0]\n"
   ]
  },
  {
   "cell_type": "code",
   "execution_count": null,
   "metadata": {},
   "outputs": [],
   "source": [
    "plt.plot(EpisodeNumber, mean_reward)"
   ]
  },
  {
   "cell_type": "code",
   "execution_count": null,
   "metadata": {},
   "outputs": [],
   "source": [
    "# Evaluate the trained agent\n",
    "mean_reward, std_reward = evaluate_policy(model, env, n_eval_episodes=100)\n",
    "\n",
    "print(f\"mean_reward:{mean_reward:.2f} +/- {std_reward:.2f}\")"
   ]
  },
  {
   "attachments": {},
   "cell_type": "markdown",
   "metadata": {},
   "source": [
    "# Changing the Environment's Number of Periods"
   ]
  },
  {
   "cell_type": "code",
   "execution_count": null,
   "metadata": {},
   "outputs": [],
   "source": [
    "# Making Supply Chain Environment\n",
    "env_1 = or_gym.make('InvManagement-v1') #gym.make('CartPole-v1')\n",
    "\n",
    "# Constructing model\n",
    "model_1 = PPO(MlpPolicy, env, verbose=0)"
   ]
  },
  {
   "cell_type": "code",
   "execution_count": null,
   "metadata": {},
   "outputs": [],
   "source": [
    "env_1.periods = 60"
   ]
  },
  {
   "cell_type": "code",
   "execution_count": null,
   "metadata": {},
   "outputs": [],
   "source": [
    "# Evaluating initial pre-training performance\n",
    "\n",
    "mean_reward_before_train_1 = evaluate_policy(model_1, env_1, n_eval_episodes=100)\n",
    "print(\"Mean reward:\", mean_reward_before_train_1)\n",
    "\n",
    "EpisodeNumber_1 = np.linspace(10000,200000,20)\n",
    "mean_reward_1 = np.zeros(20)\n",
    "\n",
    "# Train the agent for 200,000 steps\n",
    "\n",
    "for i in tqdm(range(20)):\n",
    "    model_1.learn(total_timesteps=10000, progress_bar=True)\n",
    "    mean_reward_1[i] = evaluate_policy(model_1, env_1, n_eval_episodes=100)[0]\n"
   ]
  },
  {
   "cell_type": "code",
   "execution_count": null,
   "metadata": {},
   "outputs": [],
   "source": [
    "plt.plot(EpisodeNumber_1, mean_reward_1)"
   ]
  },
  {
   "attachments": {},
   "cell_type": "markdown",
   "metadata": {},
   "source": [
    "# User Demand Distributions\n",
    "\n",
    "1: poisson distribution <br>\n",
    "2: binomial distribution <br>\n",
    "3: uniform random integer <br>\n",
    "4: geometric distribution <br>"
   ]
  },
  {
   "cell_type": "code",
   "execution_count": null,
   "metadata": {},
   "outputs": [],
   "source": [
    "# Making Supply Chain Environment\n",
    "env_poisson = or_gym.make('InvManagement-v1') \n",
    "env_poisson.dist = 1\n",
    "\n",
    "env_binomial = or_gym.make('InvManagement-v1') \n",
    "env_binomial.dist = 2\n",
    "\n",
    "env_uniform_rand = or_gym.make('InvManagement-v1') \n",
    "env_uniform_rand.dist = 3\n",
    "\n",
    "env_geometric = or_gym.make('InvManagement-v1') \n",
    "env_geometric.dist = 4\n",
    "\n",
    "# Constructing models\n",
    "model_p = PPO(MlpPolicy, env, verbose=0)\n",
    "model_b = PPO(MlpPolicy, env, verbose=0)\n",
    "model_u = PPO(MlpPolicy, env, verbose=0)\n",
    "model_g = PPO(MlpPolicy, env, verbose=0)"
   ]
  },
  {
   "cell_type": "code",
   "execution_count": null,
   "metadata": {},
   "outputs": [],
   "source": [
    "envs = [env_poisson, env_binomial, env_uniform_rand, env_geometric]\n",
    "models = [model_p, model_b, model_u, model_g]\n",
    "\n",
    "arr = np.zeros(50)\n",
    "\n",
    "mean_rewards = np.array([arr, arr, arr, arr])\n",
    "\n",
    "EpisodeNumber = np.linspace(10000,500000,50)\n"
   ]
  },
  {
   "cell_type": "code",
   "execution_count": null,
   "metadata": {},
   "outputs": [],
   "source": [
    "for i in range(4):\n",
    "\n",
    "    # Evaluating initial pre-training performance\n",
    "\n",
    "    mean_reward_before_train_n = evaluate_policy(models[i], envs[i], n_eval_episodes=100)\n",
    "    print(\"Mean reward:\", mean_reward_before_train_n)\n",
    "\n",
    "\n",
    "    # Train the agent for 500,000 steps\n",
    "\n",
    "    for j in tqdm(range(50)):\n",
    "        models[i].learn(total_timesteps=10000, progress_bar=True)\n",
    "        mean_rewards[i,j] = evaluate_policy(models[i], envs[i], n_eval_episodes=100)[0]\n"
   ]
  },
  {
   "cell_type": "code",
   "execution_count": null,
   "metadata": {},
   "outputs": [],
   "source": [
    "for i in range(4):\n",
    "    plt.figure()\n",
    "    plt.title('{}'.format(i))\n",
    "    plt.plot(EpisodeNumber, mean_rewards[i])"
   ]
  },
  {
   "cell_type": "markdown",
   "metadata": {},
   "source": []
  }
 ],
 "metadata": {
  "kernelspec": {
   "display_name": "base",
   "language": "python",
   "name": "python3"
  },
  "language_info": {
   "codemirror_mode": {
    "name": "ipython",
    "version": 3
   },
   "file_extension": ".py",
   "mimetype": "text/x-python",
   "name": "python",
   "nbconvert_exporter": "python",
   "pygments_lexer": "ipython3",
   "version": "3.8.8"
  },
  "orig_nbformat": 4,
  "vscode": {
   "interpreter": {
    "hash": "a4612a4b7fa53cc24da9036e6d31dbb4f4c5422e33136073430e4190579d7d4a"
   }
  }
 },
 "nbformat": 4,
 "nbformat_minor": 2
}
