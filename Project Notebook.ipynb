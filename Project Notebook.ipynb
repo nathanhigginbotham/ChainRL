{
 "cells": [
  {
   "attachments": {},
   "cell_type": "markdown",
   "metadata": {},
   "source": [
    "# Project"
   ]
  },
  {
   "attachments": {},
   "cell_type": "markdown",
   "metadata": {},
   "source": [
    "### Brainstorming Ideas\n",
    "\n",
    "Just some initial thoughts to potentially discuss or ponder - my knowledge is limited so I'm just freeballing.\n",
    "\n",
    "##### - Episodic/Continuing Tasks for initial environment setups.\n",
    "\n",
    "    So do we have a defined end point for a specific company's supply chain, a current environment that can be simulated/understood and created for our agent to optimise.\n",
    "\n",
    "    Or will it be an agent that continues working with an ever-changing environment (as what happens in the real world).\n",
    "\n",
    "    Overall a network that adapts well to randomly changing environment variables would be more useful. But as a starting point, optimising within a closed sample would be useful.\n",
    "\n",
    "\n",
    "##### - Simple Environment Ideas\n",
    "\n",
    "    What if we simulate a linear supply chain, consisting of\n",
    "    - Raw Materials\n",
    "    - Manufacturing\n",
    "    - Storage\n",
    "    - Distribution\n",
    "    - Consumption\n",
    "\n",
    "    We then model this environment to give each node in the chain certain features and relations. We could set distances between each node, in time. Set requirements for consumption that would relate and feed backwards generating relations between each other node."
   ]
  },
  {
   "cell_type": "markdown",
   "metadata": {},
   "source": []
  }
 ],
 "metadata": {
  "kernelspec": {
   "display_name": "Python 3",
   "language": "python",
   "name": "python3"
  },
  "language_info": {
   "name": "python",
   "version": "3.9.7 (default, Sep 16 2021, 08:50:36) \n[Clang 10.0.0 ]"
  },
  "orig_nbformat": 4,
  "vscode": {
   "interpreter": {
    "hash": "40d3a090f54c6569ab1632332b64b2c03c39dcf918b08424e98f38b5ae0af88f"
   }
  }
 },
 "nbformat": 4,
 "nbformat_minor": 2
}
