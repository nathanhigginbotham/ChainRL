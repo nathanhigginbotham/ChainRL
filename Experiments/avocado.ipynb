{
 "cells": [
  {
   "attachments": {},
   "cell_type": "markdown",
   "metadata": {},
   "source": [
    "# Data Cleaning of US Avocado Sales"
   ]
  },
  {
   "cell_type": "code",
   "execution_count": 1,
   "metadata": {},
   "outputs": [],
   "source": [
    "import pandas as pd"
   ]
  },
  {
   "cell_type": "code",
   "execution_count": 7,
   "metadata": {},
   "outputs": [
    {
     "data": {
      "text/html": [
       "<div>\n",
       "<style scoped>\n",
       "    .dataframe tbody tr th:only-of-type {\n",
       "        vertical-align: middle;\n",
       "    }\n",
       "\n",
       "    .dataframe tbody tr th {\n",
       "        vertical-align: top;\n",
       "    }\n",
       "\n",
       "    .dataframe thead th {\n",
       "        text-align: right;\n",
       "    }\n",
       "</style>\n",
       "<table border=\"1\" class=\"dataframe\">\n",
       "  <thead>\n",
       "    <tr style=\"text-align: right;\">\n",
       "      <th></th>\n",
       "      <th>Date</th>\n",
       "      <th>Total Volume</th>\n",
       "      <th>year</th>\n",
       "      <th>region</th>\n",
       "    </tr>\n",
       "  </thead>\n",
       "  <tbody>\n",
       "    <tr>\n",
       "      <th>0</th>\n",
       "      <td>2015-12-27</td>\n",
       "      <td>64236.62</td>\n",
       "      <td>2015</td>\n",
       "      <td>Albany</td>\n",
       "    </tr>\n",
       "    <tr>\n",
       "      <th>1</th>\n",
       "      <td>2015-12-20</td>\n",
       "      <td>54876.98</td>\n",
       "      <td>2015</td>\n",
       "      <td>Albany</td>\n",
       "    </tr>\n",
       "    <tr>\n",
       "      <th>2</th>\n",
       "      <td>2015-12-13</td>\n",
       "      <td>118220.22</td>\n",
       "      <td>2015</td>\n",
       "      <td>Albany</td>\n",
       "    </tr>\n",
       "    <tr>\n",
       "      <th>3</th>\n",
       "      <td>2015-12-06</td>\n",
       "      <td>78992.15</td>\n",
       "      <td>2015</td>\n",
       "      <td>Albany</td>\n",
       "    </tr>\n",
       "    <tr>\n",
       "      <th>4</th>\n",
       "      <td>2015-11-29</td>\n",
       "      <td>51039.60</td>\n",
       "      <td>2015</td>\n",
       "      <td>Albany</td>\n",
       "    </tr>\n",
       "  </tbody>\n",
       "</table>\n",
       "</div>"
      ],
      "text/plain": [
       "         Date  Total Volume  year  region\n",
       "0  2015-12-27      64236.62  2015  Albany\n",
       "1  2015-12-20      54876.98  2015  Albany\n",
       "2  2015-12-13     118220.22  2015  Albany\n",
       "3  2015-12-06      78992.15  2015  Albany\n",
       "4  2015-11-29      51039.60  2015  Albany"
      ]
     },
     "execution_count": 7,
     "metadata": {},
     "output_type": "execute_result"
    }
   ],
   "source": [
    "data = pd.read_csv('avocado.csv') # Read the data\n",
    "\n",
    "\n",
    "data = data.drop(['AveragePrice', 'Unnamed: 0',\n",
    "                  '4046', '4225', '4770', 'Total Bags',\n",
    "                  'Small Bags', 'Large Bags', 'XLarge Bags', \n",
    "                  'type'], axis=1) # Drop the columns\n",
    "\n",
    "data.head()\n"
   ]
  },
  {
   "cell_type": "code",
   "execution_count": 8,
   "metadata": {},
   "outputs": [
    {
     "name": "stdout",
     "output_type": "stream",
     "text": [
      "Albany\n",
      "Atlanta\n",
      "BaltimoreWashington\n",
      "Boise\n",
      "Boston\n",
      "BuffaloRochester\n",
      "California\n",
      "Charlotte\n",
      "Chicago\n",
      "CincinnatiDayton\n",
      "Columbus\n",
      "DallasFtWorth\n",
      "Denver\n",
      "Detroit\n",
      "GrandRapids\n",
      "GreatLakes\n",
      "HarrisburgScranton\n",
      "HartfordSpringfield\n",
      "Houston\n",
      "Indianapolis\n",
      "Jacksonville\n",
      "LasVegas\n",
      "LosAngeles\n",
      "Louisville\n",
      "MiamiFtLauderdale\n",
      "Midsouth\n",
      "Nashville\n",
      "NewOrleansMobile\n",
      "NewYork\n",
      "Northeast\n",
      "NorthernNewEngland\n",
      "Orlando\n",
      "Philadelphia\n",
      "PhoenixTucson\n",
      "Pittsburgh\n",
      "Plains\n",
      "Portland\n",
      "RaleighGreensboro\n",
      "RichmondNorfolk\n",
      "Roanoke\n",
      "Sacramento\n",
      "SanDiego\n",
      "SanFrancisco\n",
      "Seattle\n",
      "SouthCarolina\n",
      "SouthCentral\n",
      "Southeast\n",
      "Spokane\n",
      "StLouis\n",
      "Syracuse\n",
      "Tampa\n",
      "TotalUS\n",
      "West\n",
      "WestTexNewMexico\n",
      "None\n"
     ]
    }
   ],
   "source": [
    "UniqueRegions = data.region.unique()\n",
    "print(print(\"\\n\".join(UniqueRegions)))"
   ]
  },
  {
   "cell_type": "code",
   "execution_count": 9,
   "metadata": {},
   "outputs": [],
   "source": [
    "RegionDict = {elem : pd.DataFrame() for elem in UniqueRegions}\n",
    "\n",
    "for key in RegionDict.keys():\n",
    "    RegionDict[key] = data[:][data.region == key]"
   ]
  },
  {
   "cell_type": "code",
   "execution_count": 29,
   "metadata": {},
   "outputs": [],
   "source": [
    "denver_data = RegionDict[UniqueRegions[12]]\n",
    "\n",
    "\n",
    "boston_data = RegionDict[UniqueRegions[3]]"
   ]
  },
  {
   "cell_type": "code",
   "execution_count": 30,
   "metadata": {},
   "outputs": [
    {
     "data": {
      "text/html": [
       "<div>\n",
       "<style scoped>\n",
       "    .dataframe tbody tr th:only-of-type {\n",
       "        vertical-align: middle;\n",
       "    }\n",
       "\n",
       "    .dataframe tbody tr th {\n",
       "        vertical-align: top;\n",
       "    }\n",
       "\n",
       "    .dataframe thead th {\n",
       "        text-align: right;\n",
       "    }\n",
       "</style>\n",
       "<table border=\"1\" class=\"dataframe\">\n",
       "  <thead>\n",
       "    <tr style=\"text-align: right;\">\n",
       "      <th></th>\n",
       "      <th>Date</th>\n",
       "      <th>Total Volume</th>\n",
       "      <th>year</th>\n",
       "      <th>region</th>\n",
       "    </tr>\n",
       "  </thead>\n",
       "  <tbody>\n",
       "    <tr>\n",
       "      <th>624</th>\n",
       "      <td>2015-12-27</td>\n",
       "      <td>625475.10</td>\n",
       "      <td>2015</td>\n",
       "      <td>Denver</td>\n",
       "    </tr>\n",
       "    <tr>\n",
       "      <th>625</th>\n",
       "      <td>2015-12-20</td>\n",
       "      <td>528944.54</td>\n",
       "      <td>2015</td>\n",
       "      <td>Denver</td>\n",
       "    </tr>\n",
       "    <tr>\n",
       "      <th>626</th>\n",
       "      <td>2015-12-13</td>\n",
       "      <td>741702.50</td>\n",
       "      <td>2015</td>\n",
       "      <td>Denver</td>\n",
       "    </tr>\n",
       "    <tr>\n",
       "      <th>627</th>\n",
       "      <td>2015-12-06</td>\n",
       "      <td>838225.19</td>\n",
       "      <td>2015</td>\n",
       "      <td>Denver</td>\n",
       "    </tr>\n",
       "    <tr>\n",
       "      <th>628</th>\n",
       "      <td>2015-11-29</td>\n",
       "      <td>429109.64</td>\n",
       "      <td>2015</td>\n",
       "      <td>Denver</td>\n",
       "    </tr>\n",
       "  </tbody>\n",
       "</table>\n",
       "</div>"
      ],
      "text/plain": [
       "           Date  Total Volume  year  region\n",
       "624  2015-12-27     625475.10  2015  Denver\n",
       "625  2015-12-20     528944.54  2015  Denver\n",
       "626  2015-12-13     741702.50  2015  Denver\n",
       "627  2015-12-06     838225.19  2015  Denver\n",
       "628  2015-11-29     429109.64  2015  Denver"
      ]
     },
     "execution_count": 30,
     "metadata": {},
     "output_type": "execute_result"
    }
   ],
   "source": [
    "denver_data.head()"
   ]
  },
  {
   "cell_type": "code",
   "execution_count": 32,
   "metadata": {},
   "outputs": [
    {
     "name": "stdout",
     "output_type": "stream",
     "text": [
      "2015\n",
      "2016\n",
      "2017\n",
      "2018\n",
      "None\n"
     ]
    }
   ],
   "source": [
    "UniqueYear = denver_data.year.unique()\n",
    "print(print(\"\\n\".join(UniqueYear.astype(str))))"
   ]
  },
  {
   "cell_type": "code",
   "execution_count": 52,
   "metadata": {},
   "outputs": [],
   "source": [
    "denver_dict = {elem : pd.DataFrame() for elem in UniqueYear}\n",
    "\n",
    "for key in denver_dict.keys():\n",
    "    denver_dict[key] = denver_data[:][denver_data.year == key]"
   ]
  },
  {
   "cell_type": "code",
   "execution_count": 61,
   "metadata": {},
   "outputs": [],
   "source": [
    "denver_2015 = denver_dict[UniqueYear[0]]"
   ]
  },
  {
   "cell_type": "code",
   "execution_count": 63,
   "metadata": {},
   "outputs": [
    {
     "data": {
      "text/html": [
       "<div>\n",
       "<style scoped>\n",
       "    .dataframe tbody tr th:only-of-type {\n",
       "        vertical-align: middle;\n",
       "    }\n",
       "\n",
       "    .dataframe tbody tr th {\n",
       "        vertical-align: top;\n",
       "    }\n",
       "\n",
       "    .dataframe thead th {\n",
       "        text-align: right;\n",
       "    }\n",
       "</style>\n",
       "<table border=\"1\" class=\"dataframe\">\n",
       "  <thead>\n",
       "    <tr style=\"text-align: right;\">\n",
       "      <th></th>\n",
       "      <th>Date</th>\n",
       "      <th>Total Volume</th>\n",
       "      <th>year</th>\n",
       "      <th>region</th>\n",
       "    </tr>\n",
       "  </thead>\n",
       "  <tbody>\n",
       "    <tr>\n",
       "      <th>9752</th>\n",
       "      <td>2015-12-13</td>\n",
       "      <td>24285.79</td>\n",
       "      <td>2015</td>\n",
       "      <td>Denver</td>\n",
       "    </tr>\n",
       "    <tr>\n",
       "      <th>625</th>\n",
       "      <td>2015-12-20</td>\n",
       "      <td>528944.54</td>\n",
       "      <td>2015</td>\n",
       "      <td>Denver</td>\n",
       "    </tr>\n",
       "    <tr>\n",
       "      <th>9751</th>\n",
       "      <td>2015-12-20</td>\n",
       "      <td>27173.38</td>\n",
       "      <td>2015</td>\n",
       "      <td>Denver</td>\n",
       "    </tr>\n",
       "    <tr>\n",
       "      <th>9750</th>\n",
       "      <td>2015-12-27</td>\n",
       "      <td>23728.62</td>\n",
       "      <td>2015</td>\n",
       "      <td>Denver</td>\n",
       "    </tr>\n",
       "    <tr>\n",
       "      <th>624</th>\n",
       "      <td>2015-12-27</td>\n",
       "      <td>625475.10</td>\n",
       "      <td>2015</td>\n",
       "      <td>Denver</td>\n",
       "    </tr>\n",
       "  </tbody>\n",
       "</table>\n",
       "</div>"
      ],
      "text/plain": [
       "            Date  Total Volume  year  region\n",
       "9752  2015-12-13      24285.79  2015  Denver\n",
       "625   2015-12-20     528944.54  2015  Denver\n",
       "9751  2015-12-20      27173.38  2015  Denver\n",
       "9750  2015-12-27      23728.62  2015  Denver\n",
       "624   2015-12-27     625475.10  2015  Denver"
      ]
     },
     "execution_count": 63,
     "metadata": {},
     "output_type": "execute_result"
    }
   ],
   "source": [
    "denver_2015.tail()"
   ]
  },
  {
   "cell_type": "code",
   "execution_count": 43,
   "metadata": {},
   "outputs": [
    {
     "ename": "KeyError",
     "evalue": "'Date'",
     "output_type": "error",
     "traceback": [
      "\u001b[0;31m---------------------------------------------------------------------------\u001b[0m",
      "\u001b[0;31mKeyError\u001b[0m                                  Traceback (most recent call last)",
      "Cell \u001b[0;32mIn [43], line 2\u001b[0m\n\u001b[1;32m      1\u001b[0m \u001b[39mfor\u001b[39;00m i \u001b[39min\u001b[39;00m denver_dict:\n\u001b[0;32m----> 2\u001b[0m     denver_dict[i][\u001b[39m'\u001b[39m\u001b[39mDate\u001b[39m\u001b[39m'\u001b[39m] \u001b[39m=\u001b[39m denver_dict[\u001b[39m'\u001b[39;49m\u001b[39mDate\u001b[39;49m\u001b[39m'\u001b[39;49m]\u001b[39m.\u001b[39mdt\u001b[39m.\u001b[39misocalendar()\u001b[39m.\u001b[39mweek\n",
      "\u001b[0;31mKeyError\u001b[0m: 'Date'"
     ]
    }
   ],
   "source": [
    "for i in denver_dict:\n",
    "    denver_dict[i]['Date'] = denver_dict['Date'].dt.isocalendar().week"
   ]
  },
  {
   "cell_type": "code",
   "execution_count": 104,
   "metadata": {},
   "outputs": [
    {
     "name": "stdout",
     "output_type": "stream",
     "text": [
      "2015\n",
      "2016\n",
      "2017\n",
      "2018\n",
      "None\n"
     ]
    }
   ],
   "source": [
    "boston_data = RegionDict[UniqueRegions[4]]\n",
    "\n",
    "UniqueYear = boston_data.year.unique()\n",
    "print(print(\"\\n\".join(UniqueYear.astype(str))))\n",
    "\n",
    "boston_dict = {elem : pd.DataFrame() for elem in UniqueYear}\n",
    "\n",
    "for key in boston_dict.keys():\n",
    "    boston_dict[key] = boston_data[:][boston_data.year == key]\n",
    "\n",
    "boston_2015 = boston_dict[UniqueYear[0]]\n"
   ]
  },
  {
   "cell_type": "code",
   "execution_count": 105,
   "metadata": {},
   "outputs": [],
   "source": [
    "len(boston_2015)\n",
    "\n"
   ]
  },
  {
   "cell_type": "code",
   "execution_count": 106,
   "metadata": {},
   "outputs": [
    {
     "name": "stdout",
     "output_type": "stream",
     "text": [
      "           Date  Total Volume  year  region\n",
      "0    2015-12-27     450816.39  2015  Boston\n",
      "1    2015-12-20     489802.88  2015  Boston\n",
      "2    2015-12-13     549945.76  2015  Boston\n",
      "3    2015-12-06     488679.31  2015  Boston\n",
      "4    2015-11-29     350559.81  2015  Boston\n",
      "5    2015-11-22     466759.99  2015  Boston\n",
      "6    2015-11-15     513738.98  2015  Boston\n",
      "7    2015-11-08     641759.57  2015  Boston\n",
      "8    2015-11-01     553096.84  2015  Boston\n",
      "9    2015-10-25     534249.47  2015  Boston\n",
      "10   2015-10-18     725296.29  2015  Boston\n",
      "11   2015-10-11     485706.68  2015  Boston\n",
      "12   2015-10-04     536479.42  2015  Boston\n",
      "13   2015-09-27     553307.04  2015  Boston\n",
      "14   2015-09-20     498640.23  2015  Boston\n",
      "15   2015-09-13     655682.95  2015  Boston\n",
      "16   2015-09-06     577774.74  2015  Boston\n",
      "17   2015-08-30     526664.87  2015  Boston\n",
      "18   2015-08-23     589471.32  2015  Boston\n",
      "19   2015-08-16     565795.06  2015  Boston\n",
      "20   2015-08-09     690517.19  2015  Boston\n",
      "21   2015-08-02     571994.50  2015  Boston\n",
      "22   2015-07-26     500233.69  2015  Boston\n",
      "23   2015-07-19     597168.12  2015  Boston\n",
      "24   2015-07-12     634515.74  2015  Boston\n",
      "25   2015-07-05     582909.73  2015  Boston\n",
      "26   2015-06-28     560494.92  2015  Boston\n",
      "27   2015-06-21     543504.66  2015  Boston\n",
      "28   2015-06-14     684346.48  2015  Boston\n",
      "29   2015-06-07     562542.86  2015  Boston\n",
      "30   2015-05-31     565160.95  2015  Boston\n",
      "31   2015-05-24     633521.98  2015  Boston\n",
      "32   2015-05-17     534488.54  2015  Boston\n",
      "33   2015-05-10     625558.14  2015  Boston\n",
      "34   2015-05-03     552368.94  2015  Boston\n",
      "35   2015-04-26     465911.37  2015  Boston\n",
      "36   2015-04-19     504619.83  2015  Boston\n",
      "37   2015-04-12     408485.16  2015  Boston\n",
      "38   2015-04-05     449818.01  2015  Boston\n",
      "39   2015-03-29     453631.25  2015  Boston\n",
      "40   2015-03-22     453173.22  2015  Boston\n",
      "41   2015-03-15     417750.36  2015  Boston\n",
      "42   2015-03-08     408403.96  2015  Boston\n",
      "43   2015-03-01     485736.10  2015  Boston\n",
      "44   2015-02-22     355432.28  2015  Boston\n",
      "45   2015-02-15     399883.99  2015  Boston\n",
      "46   2015-02-08     609985.34  2015  Boston\n",
      "47   2015-02-01     490022.14  2015  Boston\n",
      "48   2015-01-25     409343.56  2015  Boston\n",
      "49   2015-01-18     401331.33  2015  Boston\n",
      "50   2015-01-11     437771.89  2015  Boston\n",
      "51   2015-01-04     491738.00  2015  Boston\n",
      "52   2015-12-27       7986.08  2015  Boston\n",
      "53   2015-12-20       7939.48  2015  Boston\n",
      "54   2015-12-13       8563.97  2015  Boston\n",
      "55   2015-12-06       8286.37  2015  Boston\n",
      "56   2015-11-29       6869.81  2015  Boston\n",
      "57   2015-11-22       7668.48  2015  Boston\n",
      "58   2015-11-15       8779.47  2015  Boston\n",
      "59   2015-11-08       7507.69  2015  Boston\n",
      "60   2015-11-01       7166.04  2015  Boston\n",
      "61   2015-10-25       8471.24  2015  Boston\n",
      "62   2015-10-18       6986.04  2015  Boston\n",
      "63   2015-10-11       7698.58  2015  Boston\n",
      "64   2015-10-04       8186.26  2015  Boston\n",
      "65   2015-09-27       2023.36  2015  Boston\n",
      "66   2015-09-20       2623.42  2015  Boston\n",
      "67   2015-09-13       3283.74  2015  Boston\n",
      "68   2015-09-06       3343.86  2015  Boston\n",
      "69   2015-08-30       2633.60  2015  Boston\n",
      "70   2015-08-23       3080.47  2015  Boston\n",
      "71   2015-08-16       2694.61  2015  Boston\n",
      "72   2015-08-09       2955.27  2015  Boston\n",
      "73   2015-08-02       3357.29  2015  Boston\n",
      "74   2015-07-26       3367.46  2015  Boston\n",
      "75   2015-07-19       3388.25  2015  Boston\n",
      "76   2015-07-12       2763.50  2015  Boston\n",
      "77   2015-07-05       3135.77  2015  Boston\n",
      "78   2015-06-28       3045.10  2015  Boston\n",
      "79   2015-06-21       2662.63  2015  Boston\n",
      "80   2015-06-14       2943.18  2015  Boston\n",
      "81   2015-06-07       3641.00  2015  Boston\n",
      "82   2015-05-31       4235.93  2015  Boston\n",
      "83   2015-05-24       3507.89  2015  Boston\n",
      "84   2015-05-17       4366.74  2015  Boston\n",
      "85   2015-05-10       3428.91  2015  Boston\n",
      "86   2015-05-03       4123.17  2015  Boston\n",
      "87   2015-04-26       3517.60  2015  Boston\n",
      "88   2015-04-19       2696.21  2015  Boston\n",
      "89   2015-04-12       3619.27  2015  Boston\n",
      "90   2015-04-05       3202.71  2015  Boston\n",
      "91   2015-03-29       2121.96  2015  Boston\n",
      "92   2015-03-22       2763.26  2015  Boston\n",
      "93   2015-03-15       1965.57  2015  Boston\n",
      "94   2015-03-08       2566.90  2015  Boston\n",
      "95   2015-03-01       3024.12  2015  Boston\n",
      "96   2015-02-22       3325.89  2015  Boston\n",
      "97   2015-02-15       2271.95  2015  Boston\n",
      "98   2015-02-08       3098.29  2015  Boston\n",
      "99   2015-02-01       2943.85  2015  Boston\n",
      "100  2015-01-25       1948.28  2015  Boston\n",
      "101  2015-01-18       2209.34  2015  Boston\n",
      "102  2015-01-11       2217.82  2015  Boston\n",
      "103  2015-01-04       2192.13  2015  Boston\n"
     ]
    }
   ],
   "source": [
    "with pd.option_context('display.max_rows', None, 'display.max_columns', None):  # more options can be specified also\n",
    "    print(boston_2015)"
   ]
  },
  {
   "cell_type": "code",
   "execution_count": 120,
   "metadata": {},
   "outputs": [],
   "source": [
    "\n",
    "boston_2015 = boston_2015.sort_index(ascending=False)\n",
    "\n",
    "boston_2015.reset_index(inplace=True, drop=True)\n",
    "\n",
    "\n",
    "boston_2015['index'] = boston_2015.index\n",
    "\n",
    "\n",
    "boston_final = boston_2015[52:]"
   ]
  },
  {
   "cell_type": "code",
   "execution_count": 118,
   "metadata": {},
   "outputs": [
    {
     "data": {
      "text/plain": [
       "<AxesSubplot: xlabel='index', ylabel='Total Volume'>"
      ]
     },
     "execution_count": 118,
     "metadata": {},
     "output_type": "execute_result"
    },
    {
     "data": {
      "image/png": "[encoded data removed]",
      "text/plain": [
       "<Figure size 640x480 with 1 Axes>"
      ]
     },
     "metadata": {},
     "output_type": "display_data"
    }
   ],
   "source": [
    "boston_2015.plot.scatter(x='index', y='Total Volume')"
   ]
  },
  {
   "cell_type": "code",
   "execution_count": 117,
   "metadata": {},
   "outputs": [
    {
     "data": {
      "text/plain": [
       "<AxesSubplot: xlabel='index', ylabel='Total Volume'>"
      ]
     },
     "execution_count": 117,
     "metadata": {},
     "output_type": "execute_result"
    },
    {
     "data": {
      "image/png": "[encoded data removed]",
      "text/plain": [
       "<Figure size 640x480 with 1 Axes>"
      ]
     },
     "metadata": {},
     "output_type": "display_data"
    }
   ],
   "source": [
    "boston_2015.plot.scatter(x='index', y='Total Volume')"
   ]
  },
  {
   "cell_type": "code",
   "execution_count": 122,
   "metadata": {},
   "outputs": [
    {
     "data": {
      "text/plain": [
       "<AxesSubplot: xlabel='index', ylabel='Total Volume'>"
      ]
     },
     "execution_count": 122,
     "metadata": {},
     "output_type": "execute_result"
    },
    {
     "data": {
      "image/png": "[encoded data removed]",
      "text/plain": [
       "<Figure size 640x480 with 1 Axes>"
      ]
     },
     "metadata": {},
     "output_type": "display_data"
    }
   ],
   "source": [
    "boston_final.plot.scatter(x='index', y='Total Volume')"
   ]
  },
  {
   "cell_type": "code",
   "execution_count": null,
   "metadata": {},
   "outputs": [],
   "source": []
  }
 ],
 "metadata": {
  "kernelspec": {
   "display_name": "base",
   "language": "python",
   "name": "python3"
  },
  "language_info": {
   "codemirror_mode": {
    "name": "ipython",
    "version": 3
   },
   "file_extension": ".py",
   "mimetype": "text/x-python",
   "name": "python",
   "nbconvert_exporter": "python",
   "pygments_lexer": "ipython3",
   "version": "3.10.6"
  },
  "orig_nbformat": 4,
  "vscode": {
   "interpreter": {
    "hash": "43010b601632664842ec53f707dfc0034bd3b9f17fbedee23994357ac9b971eb"
   }
  }
 },
 "nbformat": 4,
 "nbformat_minor": 2
}
